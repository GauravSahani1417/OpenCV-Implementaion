{
 "cells": [
  {
   "cell_type": "code",
   "execution_count": 2,
   "metadata": {},
   "outputs": [],
   "source": [
    "import numpy as np\n",
    "import cv2 as cv\n",
    "cap = cv.VideoCapture('C:/Users/gaurav sahani/Desktop/Machine Learning/OpenCV/cars2.avi')\n",
    "#kernel = cv.getStructuringElement(cv.MORPH_ELLIPSE, (3,3))\n",
    "fgbg = cv.bgsegm.createBackgroundSubtractorMOG()\n",
    "#fgbg = cv.bgsegm.BackgroundSubtractorGMG()\n",
    "#fgbg = cv.createBackgroundSubtractorMOG2(detectShadows=True)\n",
    "#fgbg = cv.createBackgroundSubtractorKNN(detectShadows=True)\n",
    "while True:\n",
    "    ret, frame = cap.read()\n",
    "    if frame is None:\n",
    "        break\n",
    "    fgmask = fgbg.apply(frame)\n",
    "    #fgmask = cv.morphologyEx(fgmask, cv.MORPH_OPEN, kernel)\n",
    "\n",
    "    cv.imshow('Frame', frame)\n",
    "    cv.imshow('FG MASK Frame', fgmask)\n",
    "\n",
    "    keyboard = cv.waitKey(30)\n",
    "    if cv.waitKey(1) == 13: #13 is the Enter Key\n",
    "        break\n",
    "        \n",
    "cap.release()\n",
    "cv.destroyAllWindows()"
   ]
  },
  {
   "cell_type": "code",
   "execution_count": null,
   "metadata": {},
   "outputs": [],
   "source": []
  }
 ],
 "metadata": {
  "kernelspec": {
   "display_name": "Python 3",
   "language": "python",
   "name": "python3"
  },
  "language_info": {
   "codemirror_mode": {
    "name": "ipython",
    "version": 3
   },
   "file_extension": ".py",
   "mimetype": "text/x-python",
   "name": "python",
   "nbconvert_exporter": "python",
   "pygments_lexer": "ipython3",
   "version": "3.7.6"
  }
 },
 "nbformat": 4,
 "nbformat_minor": 4
}
